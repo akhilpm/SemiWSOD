{
  "nbformat": 4,
  "nbformat_minor": 0,
  "metadata": {
    "colab": {
      "name": "Faster_RCNN.ipynb",
      "provenance": [],
      "collapsed_sections": [],
      "toc_visible": true,
      "authorship_tag": "ABX9TyPXgpgM5DQsWbhViXHD1R9W",
      "include_colab_link": true
    },
    "kernelspec": {
      "name": "python3",
      "display_name": "Python 3"
    },
    "accelerator": "GPU"
  },
  "cells": [
    {
      "cell_type": "markdown",
      "metadata": {
        "id": "view-in-github",
        "colab_type": "text"
      },
      "source": [
        "<a href=\"https://colab.research.google.com/github/loolzaaa/faster-rcnn-pytorch/blob/master/Faster_RCNN.ipynb\" target=\"_parent\"><img src=\"https://colab.research.google.com/assets/colab-badge.svg\" alt=\"Open In Colab\"/></a>"
      ]
    },
    {
      "cell_type": "code",
      "metadata": {
        "id": "uPmN4bI0XbW0",
        "colab_type": "code",
        "colab": {}
      },
      "source": [
        "!pip uninstall torch torchvision -y\n",
        "!pip install colorama easydict pyyaml matplotlib numpy\n",
        "!pip install torch==1.4.0+cu100 torchvision==0.5.0+cu100 -f https://download.pytorch.org/whl/torch_stable.html"
      ],
      "execution_count": null,
      "outputs": []
    },
    {
      "cell_type": "code",
      "metadata": {
        "id": "J1m4grxYXi9X",
        "colab_type": "code",
        "colab": {}
      },
      "source": [
        "!git clone https://github.com/loolzaaa/faster-rcnn-pytorch.git"
      ],
      "execution_count": null,
      "outputs": []
    },
    {
      "cell_type": "code",
      "metadata": {
        "id": "P566Rc2_YspS",
        "colab_type": "code",
        "colab": {}
      },
      "source": [
        "%cd faster-rcnn-pytorch\n",
        "!mkdir data\n",
        "!mkdir data/pretrained_model\n",
        "%cd lib\n",
        "\n",
        "!python setup.py develop\n",
        "\n",
        "%cd .."
      ],
      "execution_count": null,
      "outputs": []
    },
    {
      "cell_type": "code",
      "metadata": {
        "id": "msNKshP8al8Z",
        "colab_type": "code",
        "colab": {}
      },
      "source": [
        "import lib # Add some path to sys\n",
        "import torch # You need to import this first\n",
        "import _C\n",
        "\n",
        "print(_C)"
      ],
      "execution_count": null,
      "outputs": []
    },
    {
      "cell_type": "code",
      "metadata": {
        "id": "xAjbWOjYiNiM",
        "colab_type": "code",
        "colab": {}
      },
      "source": [
        "!wget -O data/voc2007.tar http://host.robots.ox.ac.uk/pascal/VOC/voc2007/VOCtrainval_06-Nov-2007.tar\n",
        "!tar -xf data/voc2007.tar -C data/\n",
        "\n",
        "!wget -O data/pretrained_model/resnet50.pth \"https://drive.google.com/uc?export=download&id=1Wv-j1qtRsYWcuCVakuaN0kXV6ZcQ3yzK\""
      ],
      "execution_count": null,
      "outputs": []
    },
    {
      "cell_type": "code",
      "metadata": {
        "id": "LJnA6W2WXz8O",
        "colab_type": "code",
        "colab": {}
      },
      "source": [
        "# Before run, check script/train.py file.\n",
        "# You need to change pprint.pp -> pprint.pprint,\n",
        "# because pp() function available in python 3.8+\n",
        "!python run.py train -n resnet50 --cuda"
      ],
      "execution_count": null,
      "outputs": []
    },
    {
      "cell_type": "code",
      "metadata": {
        "id": "2vbgW3-jsMpS",
        "colab_type": "code",
        "colab": {}
      },
      "source": [
        ""
      ],
      "execution_count": null,
      "outputs": []
    }
  ]
}